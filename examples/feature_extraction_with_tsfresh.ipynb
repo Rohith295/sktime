{
 "cells": [
  {
   "cell_type": "markdown",
   "metadata": {},
   "source": [
    "# Feature extraction with tsfresh transformer\n",
    "\n",
    "In this tutorial, we show how you can use `sktime` with [`tsfresh`](https://tsfresh.readthedocs.io) to first extract features from time series, so that we can then use any scikit-learn estimator."
   ]
  },
  {
   "cell_type": "markdown",
   "metadata": {},
   "source": [
    "## Preliminaries\n",
    "You have to install tsfresh if you haven't already. To install it, uncomment the cell below:"
   ]
  },
  {
   "cell_type": "code",
   "execution_count": 1,
   "metadata": {},
   "outputs": [],
   "source": [
    "# !pip install --upgrade tsfresh"
   ]
  },
  {
   "cell_type": "code",
   "execution_count": 2,
   "metadata": {},
   "outputs": [],
   "source": [
    "import numpy as np\n",
    "from sklearn.model_selection import train_test_split\n",
    "from sklearn.ensemble import RandomForestClassifier\n",
    "from sklearn.pipeline import make_pipeline\n",
    "from sktime.datasets import load_basic_motions\n",
    "from sktime.datasets import load_gunpoint\n",
    "from sktime.transformers.series_as_features.summarize import \\\n",
    "    TSFreshFeatureExtractor"
   ]
  },
  {
   "cell_type": "markdown",
   "metadata": {},
   "source": [
    "## Univariate time series classification data\n",
    "\n",
    "For more details on the data set, see the [univariate time series classification notebook](https://github.com/alan-turing-institute/sktime/blob/master/examples/01_classification_univariate.ipynb)."
   ]
  },
  {
   "cell_type": "code",
   "execution_count": 3,
   "metadata": {},
   "outputs": [
    {
     "name": "stdout",
     "output_type": "stream",
     "text": [
      "(150, 1) (150,) (50, 1) (50,)\n"
     ]
    }
   ],
   "source": [
    "X, y = load_gunpoint(return_X_y=True)\n",
    "X_train, X_test, y_train, y_test = train_test_split(X, y)\n",
    "print(X_train.shape, y_train.shape, X_test.shape, y_test.shape)"
   ]
  },
  {
   "cell_type": "code",
   "execution_count": 4,
   "metadata": {
    "collapsed": false,
    "pycharm": {
     "name": "#%%\n"
    }
   },
   "outputs": [
    {
     "data": {
      "text/html": [
       "<div>\n",
       "<style scoped>\n",
       "    .dataframe tbody tr th:only-of-type {\n",
       "        vertical-align: middle;\n",
       "    }\n",
       "\n",
       "    .dataframe tbody tr th {\n",
       "        vertical-align: top;\n",
       "    }\n",
       "\n",
       "    .dataframe thead th {\n",
       "        text-align: right;\n",
       "    }\n",
       "</style>\n",
       "<table border=\"1\" class=\"dataframe\">\n",
       "  <thead>\n",
       "    <tr style=\"text-align: right;\">\n",
       "      <th></th>\n",
       "      <th>dim_0</th>\n",
       "    </tr>\n",
       "  </thead>\n",
       "  <tbody>\n",
       "    <tr>\n",
       "      <th>0</th>\n",
       "      <td>0     -0.64789\n",
       "1     -0.64199\n",
       "2     -0.63819\n",
       "3...</td>\n",
       "    </tr>\n",
       "    <tr>\n",
       "      <th>26</th>\n",
       "      <td>0     -1.1042\n",
       "1     -1.1044\n",
       "2     -1.1028\n",
       "3   ...</td>\n",
       "    </tr>\n",
       "    <tr>\n",
       "      <th>121</th>\n",
       "      <td>0     -1.2525\n",
       "1     -1.2499\n",
       "2     -1.2490\n",
       "3   ...</td>\n",
       "    </tr>\n",
       "    <tr>\n",
       "      <th>19</th>\n",
       "      <td>0     -0.60183\n",
       "1     -0.60023\n",
       "2     -0.59905\n",
       "3...</td>\n",
       "    </tr>\n",
       "    <tr>\n",
       "      <th>124</th>\n",
       "      <td>0     -1.2272\n",
       "1     -1.2736\n",
       "2     -1.2927\n",
       "3   ...</td>\n",
       "    </tr>\n",
       "  </tbody>\n",
       "</table>\n",
       "</div>"
      ],
      "text/plain": [
       "                                                 dim_0\n",
       "0    0     -0.64789\n",
       "1     -0.64199\n",
       "2     -0.63819\n",
       "3...\n",
       "26   0     -1.1042\n",
       "1     -1.1044\n",
       "2     -1.1028\n",
       "3   ...\n",
       "121  0     -1.2525\n",
       "1     -1.2499\n",
       "2     -1.2490\n",
       "3   ...\n",
       "19   0     -0.60183\n",
       "1     -0.60023\n",
       "2     -0.59905\n",
       "3...\n",
       "124  0     -1.2272\n",
       "1     -1.2736\n",
       "2     -1.2927\n",
       "3   ..."
      ]
     },
     "execution_count": 4,
     "metadata": {},
     "output_type": "execute_result"
    }
   ],
   "source": [
    "X_train.head()"
   ]
  },
  {
   "cell_type": "code",
   "execution_count": 5,
   "metadata": {},
   "outputs": [
    {
     "data": {
      "text/plain": [
       "array(['1', '2'], dtype=object)"
      ]
     },
     "execution_count": 5,
     "metadata": {},
     "output_type": "execute_result"
    }
   ],
   "source": [
    "# binary classification task\n",
    "np.unique(y_train)"
   ]
  },
  {
   "cell_type": "markdown",
   "metadata": {},
   "source": [
    "## Using tsfresh to extract features"
   ]
  },
  {
   "cell_type": "code",
   "execution_count": 6,
   "metadata": {},
   "outputs": [
    {
     "name": "stderr",
     "output_type": "stream",
     "text": [
      "/Users/travis/build/alan-turing-institute/sktime/sktime/transformers/series_as_features/summarize/_tsfresh.py:150: UserWarning: Found non-unique index, replaced with unique index.\n",
      "  warn(\"Found non-unique index, replaced with unique index.\")\n"
     ]
    },
    {
     "name": "stderr",
     "output_type": "stream",
     "text": [
      "\r",
      "Feature Extraction:   0%|          | 0/5 [00:00<?, ?it/s]"
     ]
    },
    {
     "name": "stderr",
     "output_type": "stream",
     "text": [
      "\r",
      "Feature Extraction:  20%|██        | 1/5 [00:03<00:15,  3.97s/it]"
     ]
    },
    {
     "name": "stderr",
     "output_type": "stream",
     "text": [
      "\r",
      "Feature Extraction:  40%|████      | 2/5 [00:07<00:11,  3.84s/it]"
     ]
    },
    {
     "name": "stderr",
     "output_type": "stream",
     "text": [
      "\r",
      "Feature Extraction:  60%|██████    | 3/5 [00:11<00:07,  3.77s/it]"
     ]
    },
    {
     "name": "stderr",
     "output_type": "stream",
     "text": [
      "\r",
      "Feature Extraction:  80%|████████  | 4/5 [00:14<00:03,  3.73s/it]"
     ]
    },
    {
     "name": "stderr",
     "output_type": "stream",
     "text": [
      "\r",
      "Feature Extraction: 100%|██████████| 5/5 [00:18<00:00,  3.69s/it]"
     ]
    },
    {
     "name": "stderr",
     "output_type": "stream",
     "text": [
      "\r",
      "Feature Extraction: 100%|██████████| 5/5 [00:18<00:00,  3.67s/it]"
     ]
    },
    {
     "name": "stderr",
     "output_type": "stream",
     "text": [
      "\n"
     ]
    },
    {
     "data": {
      "text/html": [
       "<div>\n",
       "<style scoped>\n",
       "    .dataframe tbody tr th:only-of-type {\n",
       "        vertical-align: middle;\n",
       "    }\n",
       "\n",
       "    .dataframe tbody tr th {\n",
       "        vertical-align: top;\n",
       "    }\n",
       "\n",
       "    .dataframe thead th {\n",
       "        text-align: right;\n",
       "    }\n",
       "</style>\n",
       "<table border=\"1\" class=\"dataframe\">\n",
       "  <thead>\n",
       "    <tr style=\"text-align: right;\">\n",
       "      <th>variable</th>\n",
       "      <th>dim_0__abs_energy</th>\n",
       "      <th>dim_0__absolute_sum_of_changes</th>\n",
       "      <th>dim_0__agg_autocorrelation__f_agg_\"mean\"__maxlag_40</th>\n",
       "      <th>dim_0__agg_autocorrelation__f_agg_\"median\"__maxlag_40</th>\n",
       "      <th>dim_0__agg_autocorrelation__f_agg_\"var\"__maxlag_40</th>\n",
       "      <th>dim_0__agg_linear_trend__attr_\"intercept\"__chunk_len_10__f_agg_\"max\"</th>\n",
       "      <th>dim_0__agg_linear_trend__attr_\"intercept\"__chunk_len_10__f_agg_\"mean\"</th>\n",
       "      <th>dim_0__agg_linear_trend__attr_\"intercept\"__chunk_len_10__f_agg_\"min\"</th>\n",
       "      <th>dim_0__agg_linear_trend__attr_\"intercept\"__chunk_len_10__f_agg_\"var\"</th>\n",
       "      <th>dim_0__agg_linear_trend__attr_\"intercept\"__chunk_len_50__f_agg_\"max\"</th>\n",
       "      <th>...</th>\n",
       "      <th>dim_0__symmetry_looking__r_0.9500000000000001</th>\n",
       "      <th>dim_0__time_reversal_asymmetry_statistic__lag_1</th>\n",
       "      <th>dim_0__time_reversal_asymmetry_statistic__lag_2</th>\n",
       "      <th>dim_0__time_reversal_asymmetry_statistic__lag_3</th>\n",
       "      <th>dim_0__value_count__value_-1</th>\n",
       "      <th>dim_0__value_count__value_0</th>\n",
       "      <th>dim_0__value_count__value_1</th>\n",
       "      <th>dim_0__variance</th>\n",
       "      <th>dim_0__variance_larger_than_standard_deviation</th>\n",
       "      <th>dim_0__variation_coefficient</th>\n",
       "    </tr>\n",
       "  </thead>\n",
       "  <tbody>\n",
       "    <tr>\n",
       "      <th>0</th>\n",
       "      <td>148.999560</td>\n",
       "      <td>23.286970</td>\n",
       "      <td>0.447178</td>\n",
       "      <td>0.494247</td>\n",
       "      <td>0.090215</td>\n",
       "      <td>-0.947333</td>\n",
       "      <td>-1.108709</td>\n",
       "      <td>-0.877764</td>\n",
       "      <td>-0.028691</td>\n",
       "      <td>0.182893</td>\n",
       "      <td>...</td>\n",
       "      <td>1.0</td>\n",
       "      <td>0.005725</td>\n",
       "      <td>0.022142</td>\n",
       "      <td>0.050016</td>\n",
       "      <td>0.0</td>\n",
       "      <td>0.0</td>\n",
       "      <td>0.0</td>\n",
       "      <td>0.993330</td>\n",
       "      <td>0.0</td>\n",
       "      <td>-1.115664e+06</td>\n",
       "    </tr>\n",
       "    <tr>\n",
       "      <th>1</th>\n",
       "      <td>149.000439</td>\n",
       "      <td>36.392180</td>\n",
       "      <td>0.556778</td>\n",
       "      <td>0.600458</td>\n",
       "      <td>0.038777</td>\n",
       "      <td>-0.938455</td>\n",
       "      <td>-1.210859</td>\n",
       "      <td>-1.291641</td>\n",
       "      <td>0.011716</td>\n",
       "      <td>0.543392</td>\n",
       "      <td>...</td>\n",
       "      <td>1.0</td>\n",
       "      <td>0.003384</td>\n",
       "      <td>0.004215</td>\n",
       "      <td>-0.002037</td>\n",
       "      <td>0.0</td>\n",
       "      <td>0.0</td>\n",
       "      <td>0.0</td>\n",
       "      <td>0.993336</td>\n",
       "      <td>0.0</td>\n",
       "      <td>1.541231e+06</td>\n",
       "    </tr>\n",
       "    <tr>\n",
       "      <th>2</th>\n",
       "      <td>148.999447</td>\n",
       "      <td>39.505674</td>\n",
       "      <td>0.376047</td>\n",
       "      <td>0.367909</td>\n",
       "      <td>0.054839</td>\n",
       "      <td>-0.407206</td>\n",
       "      <td>-0.875695</td>\n",
       "      <td>-1.495618</td>\n",
       "      <td>0.296523</td>\n",
       "      <td>0.929742</td>\n",
       "      <td>...</td>\n",
       "      <td>1.0</td>\n",
       "      <td>0.000972</td>\n",
       "      <td>-0.006026</td>\n",
       "      <td>-0.018425</td>\n",
       "      <td>0.0</td>\n",
       "      <td>0.0</td>\n",
       "      <td>0.0</td>\n",
       "      <td>0.993330</td>\n",
       "      <td>0.0</td>\n",
       "      <td>6.334699e+05</td>\n",
       "    </tr>\n",
       "    <tr>\n",
       "      <th>3</th>\n",
       "      <td>149.000560</td>\n",
       "      <td>24.042570</td>\n",
       "      <td>0.470649</td>\n",
       "      <td>0.522128</td>\n",
       "      <td>0.093297</td>\n",
       "      <td>-1.171806</td>\n",
       "      <td>-1.172813</td>\n",
       "      <td>-0.798975</td>\n",
       "      <td>-0.107503</td>\n",
       "      <td>-0.469670</td>\n",
       "      <td>...</td>\n",
       "      <td>1.0</td>\n",
       "      <td>-0.000547</td>\n",
       "      <td>-0.003227</td>\n",
       "      <td>-0.004482</td>\n",
       "      <td>0.0</td>\n",
       "      <td>0.0</td>\n",
       "      <td>0.0</td>\n",
       "      <td>0.993337</td>\n",
       "      <td>0.0</td>\n",
       "      <td>1.141217e+06</td>\n",
       "    </tr>\n",
       "    <tr>\n",
       "      <th>4</th>\n",
       "      <td>148.999466</td>\n",
       "      <td>39.743960</td>\n",
       "      <td>0.414706</td>\n",
       "      <td>0.437921</td>\n",
       "      <td>0.054370</td>\n",
       "      <td>-0.414197</td>\n",
       "      <td>-0.851890</td>\n",
       "      <td>-1.504428</td>\n",
       "      <td>0.284091</td>\n",
       "      <td>1.063817</td>\n",
       "      <td>...</td>\n",
       "      <td>1.0</td>\n",
       "      <td>0.002523</td>\n",
       "      <td>-0.004027</td>\n",
       "      <td>-0.009736</td>\n",
       "      <td>0.0</td>\n",
       "      <td>0.0</td>\n",
       "      <td>0.0</td>\n",
       "      <td>0.993330</td>\n",
       "      <td>0.0</td>\n",
       "      <td>-4.585856e+05</td>\n",
       "    </tr>\n",
       "  </tbody>\n",
       "</table>\n",
       "<p>5 rows × 757 columns</p>\n",
       "</div>"
      ],
      "text/plain": [
       "variable  dim_0__abs_energy  dim_0__absolute_sum_of_changes  \\\n",
       "0                148.999560                       23.286970   \n",
       "1                149.000439                       36.392180   \n",
       "2                148.999447                       39.505674   \n",
       "3                149.000560                       24.042570   \n",
       "4                148.999466                       39.743960   \n",
       "\n",
       "variable  dim_0__agg_autocorrelation__f_agg_\"mean\"__maxlag_40  \\\n",
       "0                                                  0.447178     \n",
       "1                                                  0.556778     \n",
       "2                                                  0.376047     \n",
       "3                                                  0.470649     \n",
       "4                                                  0.414706     \n",
       "\n",
       "variable  dim_0__agg_autocorrelation__f_agg_\"median\"__maxlag_40  \\\n",
       "0                                                  0.494247       \n",
       "1                                                  0.600458       \n",
       "2                                                  0.367909       \n",
       "3                                                  0.522128       \n",
       "4                                                  0.437921       \n",
       "\n",
       "variable  dim_0__agg_autocorrelation__f_agg_\"var\"__maxlag_40  \\\n",
       "0                                                  0.090215    \n",
       "1                                                  0.038777    \n",
       "2                                                  0.054839    \n",
       "3                                                  0.093297    \n",
       "4                                                  0.054370    \n",
       "\n",
       "variable  dim_0__agg_linear_trend__attr_\"intercept\"__chunk_len_10__f_agg_\"max\"  \\\n",
       "0                                                 -0.947333                      \n",
       "1                                                 -0.938455                      \n",
       "2                                                 -0.407206                      \n",
       "3                                                 -1.171806                      \n",
       "4                                                 -0.414197                      \n",
       "\n",
       "variable  dim_0__agg_linear_trend__attr_\"intercept\"__chunk_len_10__f_agg_\"mean\"  \\\n",
       "0                                                 -1.108709                       \n",
       "1                                                 -1.210859                       \n",
       "2                                                 -0.875695                       \n",
       "3                                                 -1.172813                       \n",
       "4                                                 -0.851890                       \n",
       "\n",
       "variable  dim_0__agg_linear_trend__attr_\"intercept\"__chunk_len_10__f_agg_\"min\"  \\\n",
       "0                                                 -0.877764                      \n",
       "1                                                 -1.291641                      \n",
       "2                                                 -1.495618                      \n",
       "3                                                 -0.798975                      \n",
       "4                                                 -1.504428                      \n",
       "\n",
       "variable  dim_0__agg_linear_trend__attr_\"intercept\"__chunk_len_10__f_agg_\"var\"  \\\n",
       "0                                                 -0.028691                      \n",
       "1                                                  0.011716                      \n",
       "2                                                  0.296523                      \n",
       "3                                                 -0.107503                      \n",
       "4                                                  0.284091                      \n",
       "\n",
       "variable  dim_0__agg_linear_trend__attr_\"intercept\"__chunk_len_50__f_agg_\"max\"  \\\n",
       "0                                                  0.182893                      \n",
       "1                                                  0.543392                      \n",
       "2                                                  0.929742                      \n",
       "3                                                 -0.469670                      \n",
       "4                                                  1.063817                      \n",
       "\n",
       "variable  ...  dim_0__symmetry_looking__r_0.9500000000000001  \\\n",
       "0         ...                                            1.0   \n",
       "1         ...                                            1.0   \n",
       "2         ...                                            1.0   \n",
       "3         ...                                            1.0   \n",
       "4         ...                                            1.0   \n",
       "\n",
       "variable  dim_0__time_reversal_asymmetry_statistic__lag_1  \\\n",
       "0                                                0.005725   \n",
       "1                                                0.003384   \n",
       "2                                                0.000972   \n",
       "3                                               -0.000547   \n",
       "4                                                0.002523   \n",
       "\n",
       "variable  dim_0__time_reversal_asymmetry_statistic__lag_2  \\\n",
       "0                                                0.022142   \n",
       "1                                                0.004215   \n",
       "2                                               -0.006026   \n",
       "3                                               -0.003227   \n",
       "4                                               -0.004027   \n",
       "\n",
       "variable  dim_0__time_reversal_asymmetry_statistic__lag_3  \\\n",
       "0                                                0.050016   \n",
       "1                                               -0.002037   \n",
       "2                                               -0.018425   \n",
       "3                                               -0.004482   \n",
       "4                                               -0.009736   \n",
       "\n",
       "variable  dim_0__value_count__value_-1  dim_0__value_count__value_0  \\\n",
       "0                                  0.0                          0.0   \n",
       "1                                  0.0                          0.0   \n",
       "2                                  0.0                          0.0   \n",
       "3                                  0.0                          0.0   \n",
       "4                                  0.0                          0.0   \n",
       "\n",
       "variable  dim_0__value_count__value_1  dim_0__variance  \\\n",
       "0                                 0.0         0.993330   \n",
       "1                                 0.0         0.993336   \n",
       "2                                 0.0         0.993330   \n",
       "3                                 0.0         0.993337   \n",
       "4                                 0.0         0.993330   \n",
       "\n",
       "variable  dim_0__variance_larger_than_standard_deviation  \\\n",
       "0                                                    0.0   \n",
       "1                                                    0.0   \n",
       "2                                                    0.0   \n",
       "3                                                    0.0   \n",
       "4                                                    0.0   \n",
       "\n",
       "variable  dim_0__variation_coefficient  \n",
       "0                        -1.115664e+06  \n",
       "1                         1.541231e+06  \n",
       "2                         6.334699e+05  \n",
       "3                         1.141217e+06  \n",
       "4                        -4.585856e+05  \n",
       "\n",
       "[5 rows x 757 columns]"
      ]
     },
     "execution_count": 6,
     "metadata": {},
     "output_type": "execute_result"
    }
   ],
   "source": [
    "# tf = TsFreshTransfomer()\n",
    "t = TSFreshFeatureExtractor(default_fc_parameters=\"efficient\", show_warnings=False)\n",
    "Xt = t.fit_transform(X_train)\n",
    "Xt.head()"
   ]
  },
  {
   "cell_type": "markdown",
   "metadata": {},
   "source": [
    "## Using tsfresh with sktime"
   ]
  },
  {
   "cell_type": "code",
   "execution_count": 7,
   "metadata": {},
   "outputs": [
    {
     "name": "stderr",
     "output_type": "stream",
     "text": [
      "/Users/travis/build/alan-turing-institute/sktime/sktime/transformers/series_as_features/summarize/_tsfresh.py:150: UserWarning: Found non-unique index, replaced with unique index.\n",
      "  warn(\"Found non-unique index, replaced with unique index.\")\n"
     ]
    },
    {
     "name": "stderr",
     "output_type": "stream",
     "text": [
      "\r",
      "Feature Extraction:   0%|          | 0/5 [00:00<?, ?it/s]"
     ]
    },
    {
     "name": "stderr",
     "output_type": "stream",
     "text": [
      "\r",
      "Feature Extraction:  20%|██        | 1/5 [00:03<00:14,  3.72s/it]"
     ]
    },
    {
     "name": "stderr",
     "output_type": "stream",
     "text": [
      "\r",
      "Feature Extraction:  40%|████      | 2/5 [00:07<00:11,  3.71s/it]"
     ]
    },
    {
     "name": "stderr",
     "output_type": "stream",
     "text": [
      "\r",
      "Feature Extraction:  60%|██████    | 3/5 [00:11<00:07,  3.69s/it]"
     ]
    },
    {
     "name": "stderr",
     "output_type": "stream",
     "text": [
      "\r",
      "Feature Extraction:  80%|████████  | 4/5 [00:14<00:03,  3.68s/it]"
     ]
    },
    {
     "name": "stderr",
     "output_type": "stream",
     "text": [
      "\r",
      "Feature Extraction: 100%|██████████| 5/5 [00:18<00:00,  3.66s/it]"
     ]
    },
    {
     "name": "stderr",
     "output_type": "stream",
     "text": [
      "\r",
      "Feature Extraction: 100%|██████████| 5/5 [00:18<00:00,  3.66s/it]"
     ]
    },
    {
     "name": "stderr",
     "output_type": "stream",
     "text": [
      "\n"
     ]
    },
    {
     "name": "stderr",
     "output_type": "stream",
     "text": [
      "/Users/travis/build/alan-turing-institute/sktime/sktime/transformers/series_as_features/summarize/_tsfresh.py:150: UserWarning: Found non-unique index, replaced with unique index.\n",
      "  warn(\"Found non-unique index, replaced with unique index.\")\n"
     ]
    },
    {
     "name": "stderr",
     "output_type": "stream",
     "text": [
      "\r",
      "Feature Extraction:   0%|          | 0/5 [00:00<?, ?it/s]"
     ]
    },
    {
     "name": "stderr",
     "output_type": "stream",
     "text": [
      "\r",
      "Feature Extraction:  20%|██        | 1/5 [00:01<00:05,  1.27s/it]"
     ]
    },
    {
     "name": "stderr",
     "output_type": "stream",
     "text": [
      "\r",
      "Feature Extraction:  40%|████      | 2/5 [00:02<00:03,  1.25s/it]"
     ]
    },
    {
     "name": "stderr",
     "output_type": "stream",
     "text": [
      "\r",
      "Feature Extraction:  60%|██████    | 3/5 [00:03<00:02,  1.24s/it]"
     ]
    },
    {
     "name": "stderr",
     "output_type": "stream",
     "text": [
      "\r",
      "Feature Extraction:  80%|████████  | 4/5 [00:04<00:01,  1.23s/it]"
     ]
    },
    {
     "name": "stderr",
     "output_type": "stream",
     "text": [
      "\r",
      "Feature Extraction: 100%|██████████| 5/5 [00:06<00:00,  1.23s/it]"
     ]
    },
    {
     "name": "stderr",
     "output_type": "stream",
     "text": [
      "\r",
      "Feature Extraction: 100%|██████████| 5/5 [00:06<00:00,  1.22s/it]"
     ]
    },
    {
     "name": "stderr",
     "output_type": "stream",
     "text": [
      "\n"
     ]
    },
    {
     "data": {
      "text/plain": [
       "0.96"
      ]
     },
     "execution_count": 7,
     "metadata": {},
     "output_type": "execute_result"
    }
   ],
   "source": [
    "classifier = make_pipeline(\n",
    "    TSFreshFeatureExtractor(default_fc_parameters=\"efficient\", show_warnings=False),\n",
    "    RandomForestClassifier()\n",
    ")\n",
    "classifier.fit(X_train, y_train)\n",
    "classifier.score(X_test, y_test)"
   ]
  },
  {
   "cell_type": "markdown",
   "metadata": {},
   "source": [
    "## Multivariate time series classification data"
   ]
  },
  {
   "cell_type": "code",
   "execution_count": 8,
   "metadata": {
    "scrolled": true
   },
   "outputs": [
    {
     "name": "stdout",
     "output_type": "stream",
     "text": [
      "(60, 6) (60,) (20, 6) (20,)\n"
     ]
    }
   ],
   "source": [
    "X, y = load_basic_motions(return_X_y=True)\n",
    "X_train, X_test, y_train, y_test = train_test_split(X, y)\n",
    "print(X_train.shape, y_train.shape, X_test.shape, y_test.shape)"
   ]
  },
  {
   "cell_type": "code",
   "execution_count": 9,
   "metadata": {
    "collapsed": false,
    "pycharm": {
     "name": "#%%\n"
    }
   },
   "outputs": [
    {
     "data": {
      "text/html": [
       "<div>\n",
       "<style scoped>\n",
       "    .dataframe tbody tr th:only-of-type {\n",
       "        vertical-align: middle;\n",
       "    }\n",
       "\n",
       "    .dataframe tbody tr th {\n",
       "        vertical-align: top;\n",
       "    }\n",
       "\n",
       "    .dataframe thead th {\n",
       "        text-align: right;\n",
       "    }\n",
       "</style>\n",
       "<table border=\"1\" class=\"dataframe\">\n",
       "  <thead>\n",
       "    <tr style=\"text-align: right;\">\n",
       "      <th></th>\n",
       "      <th>dim_0</th>\n",
       "      <th>dim_1</th>\n",
       "      <th>dim_2</th>\n",
       "      <th>dim_3</th>\n",
       "      <th>dim_4</th>\n",
       "      <th>dim_5</th>\n",
       "    </tr>\n",
       "  </thead>\n",
       "  <tbody>\n",
       "    <tr>\n",
       "      <th>21</th>\n",
       "      <td>0     0.648833\n",
       "1     0.648833\n",
       "2     0.076985\n",
       "3...</td>\n",
       "      <td>0    -0.996722\n",
       "1    -0.996722\n",
       "2    -0.897264\n",
       "3...</td>\n",
       "      <td>0    -0.644136\n",
       "1    -0.644136\n",
       "2     0.970515\n",
       "3...</td>\n",
       "      <td>0    -0.101208\n",
       "1    -0.101208\n",
       "2    -0.407496\n",
       "3...</td>\n",
       "      <td>0     0.055931\n",
       "1     0.055931\n",
       "2    -0.157139\n",
       "3...</td>\n",
       "      <td>0    -0.031960\n",
       "1    -0.031960\n",
       "2    -0.343575\n",
       "3...</td>\n",
       "    </tr>\n",
       "    <tr>\n",
       "      <th>13</th>\n",
       "      <td>0      2.580342\n",
       "1      2.580342\n",
       "2     -7.26891...</td>\n",
       "      <td>0     -0.850954\n",
       "1     -0.850954\n",
       "2     -6.06223...</td>\n",
       "      <td>0     -0.150030\n",
       "1     -0.150030\n",
       "2      0.96421...</td>\n",
       "      <td>0    -0.005327\n",
       "1    -0.005327\n",
       "2     0.002663\n",
       "3...</td>\n",
       "      <td>0     0.050604\n",
       "1     0.050604\n",
       "2    -0.364882\n",
       "3...</td>\n",
       "      <td>0     0.311615\n",
       "1     0.311615\n",
       "2    -0.772378\n",
       "3...</td>\n",
       "    </tr>\n",
       "    <tr>\n",
       "      <th>7</th>\n",
       "      <td>0    -0.352746\n",
       "1    -0.352746\n",
       "2    -1.354561\n",
       "3...</td>\n",
       "      <td>0     0.316845\n",
       "1     0.316845\n",
       "2     0.490525\n",
       "3...</td>\n",
       "      <td>0    -0.473779\n",
       "1    -0.473779\n",
       "2     1.454261\n",
       "3...</td>\n",
       "      <td>0    -0.327595\n",
       "1    -0.327595\n",
       "2    -0.269001\n",
       "3...</td>\n",
       "      <td>0     0.106535\n",
       "1     0.106535\n",
       "2     0.021307\n",
       "3...</td>\n",
       "      <td>0     0.197090\n",
       "1     0.197090\n",
       "2     0.460763\n",
       "3...</td>\n",
       "    </tr>\n",
       "    <tr>\n",
       "      <th>35</th>\n",
       "      <td>0      1.102297\n",
       "1      1.102297\n",
       "2      0.73238...</td>\n",
       "      <td>0    -1.790773\n",
       "1    -1.790773\n",
       "2     0.661191\n",
       "3...</td>\n",
       "      <td>0      0.001413\n",
       "1      0.001413\n",
       "2     -1.57956...</td>\n",
       "      <td>0     0.258347\n",
       "1     0.258347\n",
       "2    -0.127842\n",
       "3...</td>\n",
       "      <td>0     -0.165129\n",
       "1     -0.165129\n",
       "2     -0.16779...</td>\n",
       "      <td>0      0.516694\n",
       "1      0.516694\n",
       "2     -0.58860...</td>\n",
       "    </tr>\n",
       "    <tr>\n",
       "      <th>28</th>\n",
       "      <td>0    -0.373788\n",
       "1    -0.373788\n",
       "2     0.076140\n",
       "3...</td>\n",
       "      <td>0     0.248056\n",
       "1     0.248056\n",
       "2    -1.703104\n",
       "3...</td>\n",
       "      <td>0     0.164594\n",
       "1     0.164594\n",
       "2     0.803796\n",
       "3...</td>\n",
       "      <td>0    -0.143822\n",
       "1    -0.143822\n",
       "2     0.026634\n",
       "3...</td>\n",
       "      <td>0    -0.183773\n",
       "1    -0.183773\n",
       "2    -0.620566\n",
       "3...</td>\n",
       "      <td>0    -0.015980\n",
       "1    -0.015980\n",
       "2    -3.941791\n",
       "3...</td>\n",
       "    </tr>\n",
       "  </tbody>\n",
       "</table>\n",
       "</div>"
      ],
      "text/plain": [
       "                                                dim_0  \\\n",
       "21  0     0.648833\n",
       "1     0.648833\n",
       "2     0.076985\n",
       "3...   \n",
       "13  0      2.580342\n",
       "1      2.580342\n",
       "2     -7.26891...   \n",
       "7   0    -0.352746\n",
       "1    -0.352746\n",
       "2    -1.354561\n",
       "3...   \n",
       "35  0      1.102297\n",
       "1      1.102297\n",
       "2      0.73238...   \n",
       "28  0    -0.373788\n",
       "1    -0.373788\n",
       "2     0.076140\n",
       "3...   \n",
       "\n",
       "                                                dim_1  \\\n",
       "21  0    -0.996722\n",
       "1    -0.996722\n",
       "2    -0.897264\n",
       "3...   \n",
       "13  0     -0.850954\n",
       "1     -0.850954\n",
       "2     -6.06223...   \n",
       "7   0     0.316845\n",
       "1     0.316845\n",
       "2     0.490525\n",
       "3...   \n",
       "35  0    -1.790773\n",
       "1    -1.790773\n",
       "2     0.661191\n",
       "3...   \n",
       "28  0     0.248056\n",
       "1     0.248056\n",
       "2    -1.703104\n",
       "3...   \n",
       "\n",
       "                                                dim_2  \\\n",
       "21  0    -0.644136\n",
       "1    -0.644136\n",
       "2     0.970515\n",
       "3...   \n",
       "13  0     -0.150030\n",
       "1     -0.150030\n",
       "2      0.96421...   \n",
       "7   0    -0.473779\n",
       "1    -0.473779\n",
       "2     1.454261\n",
       "3...   \n",
       "35  0      0.001413\n",
       "1      0.001413\n",
       "2     -1.57956...   \n",
       "28  0     0.164594\n",
       "1     0.164594\n",
       "2     0.803796\n",
       "3...   \n",
       "\n",
       "                                                dim_3  \\\n",
       "21  0    -0.101208\n",
       "1    -0.101208\n",
       "2    -0.407496\n",
       "3...   \n",
       "13  0    -0.005327\n",
       "1    -0.005327\n",
       "2     0.002663\n",
       "3...   \n",
       "7   0    -0.327595\n",
       "1    -0.327595\n",
       "2    -0.269001\n",
       "3...   \n",
       "35  0     0.258347\n",
       "1     0.258347\n",
       "2    -0.127842\n",
       "3...   \n",
       "28  0    -0.143822\n",
       "1    -0.143822\n",
       "2     0.026634\n",
       "3...   \n",
       "\n",
       "                                                dim_4  \\\n",
       "21  0     0.055931\n",
       "1     0.055931\n",
       "2    -0.157139\n",
       "3...   \n",
       "13  0     0.050604\n",
       "1     0.050604\n",
       "2    -0.364882\n",
       "3...   \n",
       "7   0     0.106535\n",
       "1     0.106535\n",
       "2     0.021307\n",
       "3...   \n",
       "35  0     -0.165129\n",
       "1     -0.165129\n",
       "2     -0.16779...   \n",
       "28  0    -0.183773\n",
       "1    -0.183773\n",
       "2    -0.620566\n",
       "3...   \n",
       "\n",
       "                                                dim_5  \n",
       "21  0    -0.031960\n",
       "1    -0.031960\n",
       "2    -0.343575\n",
       "3...  \n",
       "13  0     0.311615\n",
       "1     0.311615\n",
       "2    -0.772378\n",
       "3...  \n",
       "7   0     0.197090\n",
       "1     0.197090\n",
       "2     0.460763\n",
       "3...  \n",
       "35  0      0.516694\n",
       "1      0.516694\n",
       "2     -0.58860...  \n",
       "28  0    -0.015980\n",
       "1    -0.015980\n",
       "2    -3.941791\n",
       "3...  "
      ]
     },
     "execution_count": 9,
     "metadata": {},
     "output_type": "execute_result"
    }
   ],
   "source": [
    "# multivariate input data\n",
    "X_train.head()"
   ]
  },
  {
   "cell_type": "code",
   "execution_count": 10,
   "metadata": {
    "scrolled": true
   },
   "outputs": [
    {
     "name": "stderr",
     "output_type": "stream",
     "text": [
      "/Users/travis/build/alan-turing-institute/sktime/sktime/transformers/series_as_features/summarize/_tsfresh.py:150: UserWarning: Found non-unique index, replaced with unique index.\n",
      "  warn(\"Found non-unique index, replaced with unique index.\")\n"
     ]
    },
    {
     "name": "stderr",
     "output_type": "stream",
     "text": [
      "\r",
      "Feature Extraction:   0%|          | 0/5 [00:00<?, ?it/s]"
     ]
    },
    {
     "name": "stderr",
     "output_type": "stream",
     "text": [
      "\r",
      "Feature Extraction:  20%|██        | 1/5 [00:07<00:31,  8.00s/it]"
     ]
    },
    {
     "name": "stderr",
     "output_type": "stream",
     "text": [
      "\r",
      "Feature Extraction:  40%|████      | 2/5 [00:15<00:23,  7.95s/it]"
     ]
    },
    {
     "name": "stderr",
     "output_type": "stream",
     "text": [
      "\r",
      "Feature Extraction:  60%|██████    | 3/5 [00:23<00:15,  7.91s/it]"
     ]
    },
    {
     "name": "stderr",
     "output_type": "stream",
     "text": [
      "\r",
      "Feature Extraction:  80%|████████  | 4/5 [00:31<00:07,  7.92s/it]"
     ]
    },
    {
     "name": "stderr",
     "output_type": "stream",
     "text": [
      "\r",
      "Feature Extraction: 100%|██████████| 5/5 [00:39<00:00,  7.92s/it]"
     ]
    },
    {
     "name": "stderr",
     "output_type": "stream",
     "text": [
      "\r",
      "Feature Extraction: 100%|██████████| 5/5 [00:39<00:00,  7.90s/it]"
     ]
    },
    {
     "name": "stderr",
     "output_type": "stream",
     "text": [
      "\n"
     ]
    },
    {
     "data": {
      "text/html": [
       "<div>\n",
       "<style scoped>\n",
       "    .dataframe tbody tr th:only-of-type {\n",
       "        vertical-align: middle;\n",
       "    }\n",
       "\n",
       "    .dataframe tbody tr th {\n",
       "        vertical-align: top;\n",
       "    }\n",
       "\n",
       "    .dataframe thead th {\n",
       "        text-align: right;\n",
       "    }\n",
       "</style>\n",
       "<table border=\"1\" class=\"dataframe\">\n",
       "  <thead>\n",
       "    <tr style=\"text-align: right;\">\n",
       "      <th>variable</th>\n",
       "      <th>dim_0__abs_energy</th>\n",
       "      <th>dim_0__absolute_sum_of_changes</th>\n",
       "      <th>dim_0__agg_autocorrelation__f_agg_\"mean\"__maxlag_40</th>\n",
       "      <th>dim_0__agg_autocorrelation__f_agg_\"median\"__maxlag_40</th>\n",
       "      <th>dim_0__agg_autocorrelation__f_agg_\"var\"__maxlag_40</th>\n",
       "      <th>dim_0__agg_linear_trend__attr_\"intercept\"__chunk_len_10__f_agg_\"max\"</th>\n",
       "      <th>dim_0__agg_linear_trend__attr_\"intercept\"__chunk_len_10__f_agg_\"mean\"</th>\n",
       "      <th>dim_0__agg_linear_trend__attr_\"intercept\"__chunk_len_10__f_agg_\"min\"</th>\n",
       "      <th>dim_0__agg_linear_trend__attr_\"intercept\"__chunk_len_10__f_agg_\"var\"</th>\n",
       "      <th>dim_0__agg_linear_trend__attr_\"intercept\"__chunk_len_50__f_agg_\"max\"</th>\n",
       "      <th>...</th>\n",
       "      <th>dim_5__symmetry_looking__r_0.9500000000000001</th>\n",
       "      <th>dim_5__time_reversal_asymmetry_statistic__lag_1</th>\n",
       "      <th>dim_5__time_reversal_asymmetry_statistic__lag_2</th>\n",
       "      <th>dim_5__time_reversal_asymmetry_statistic__lag_3</th>\n",
       "      <th>dim_5__value_count__value_-1</th>\n",
       "      <th>dim_5__value_count__value_0</th>\n",
       "      <th>dim_5__value_count__value_1</th>\n",
       "      <th>dim_5__variance</th>\n",
       "      <th>dim_5__variance_larger_than_standard_deviation</th>\n",
       "      <th>dim_5__variation_coefficient</th>\n",
       "    </tr>\n",
       "  </thead>\n",
       "  <tbody>\n",
       "    <tr>\n",
       "      <th>0</th>\n",
       "      <td>172.027276</td>\n",
       "      <td>79.981285</td>\n",
       "      <td>0.018738</td>\n",
       "      <td>-0.010114</td>\n",
       "      <td>0.051570</td>\n",
       "      <td>3.290444</td>\n",
       "      <td>1.030049</td>\n",
       "      <td>-0.639805</td>\n",
       "      <td>1.932756</td>\n",
       "      <td>4.425835</td>\n",
       "      <td>...</td>\n",
       "      <td>1.0</td>\n",
       "      <td>-0.045246</td>\n",
       "      <td>0.165261</td>\n",
       "      <td>0.447651</td>\n",
       "      <td>0.0</td>\n",
       "      <td>0.0</td>\n",
       "      <td>0.0</td>\n",
       "      <td>1.461253</td>\n",
       "      <td>1.0</td>\n",
       "      <td>-43.809709</td>\n",
       "    </tr>\n",
       "    <tr>\n",
       "      <th>1</th>\n",
       "      <td>10764.169856</td>\n",
       "      <td>671.272140</td>\n",
       "      <td>0.016019</td>\n",
       "      <td>-0.037014</td>\n",
       "      <td>0.161924</td>\n",
       "      <td>10.704797</td>\n",
       "      <td>1.946699</td>\n",
       "      <td>-12.205448</td>\n",
       "      <td>65.296221</td>\n",
       "      <td>15.367535</td>\n",
       "      <td>...</td>\n",
       "      <td>1.0</td>\n",
       "      <td>4.948201</td>\n",
       "      <td>5.331894</td>\n",
       "      <td>16.386624</td>\n",
       "      <td>0.0</td>\n",
       "      <td>0.0</td>\n",
       "      <td>0.0</td>\n",
       "      <td>19.585905</td>\n",
       "      <td>1.0</td>\n",
       "      <td>196.180932</td>\n",
       "    </tr>\n",
       "    <tr>\n",
       "      <th>2</th>\n",
       "      <td>7.940863</td>\n",
       "      <td>17.538085</td>\n",
       "      <td>-0.012544</td>\n",
       "      <td>-0.033330</td>\n",
       "      <td>0.011363</td>\n",
       "      <td>0.308947</td>\n",
       "      <td>-0.199023</td>\n",
       "      <td>-0.815698</td>\n",
       "      <td>0.100413</td>\n",
       "      <td>0.590843</td>\n",
       "      <td>...</td>\n",
       "      <td>1.0</td>\n",
       "      <td>0.002756</td>\n",
       "      <td>0.004311</td>\n",
       "      <td>0.000921</td>\n",
       "      <td>0.0</td>\n",
       "      <td>0.0</td>\n",
       "      <td>0.0</td>\n",
       "      <td>0.078089</td>\n",
       "      <td>0.0</td>\n",
       "      <td>8.320448</td>\n",
       "    </tr>\n",
       "    <tr>\n",
       "      <th>3</th>\n",
       "      <td>8664.940770</td>\n",
       "      <td>324.813455</td>\n",
       "      <td>-0.034966</td>\n",
       "      <td>-0.112034</td>\n",
       "      <td>0.071626</td>\n",
       "      <td>20.912103</td>\n",
       "      <td>5.560128</td>\n",
       "      <td>-1.942906</td>\n",
       "      <td>63.322971</td>\n",
       "      <td>28.026657</td>\n",
       "      <td>...</td>\n",
       "      <td>1.0</td>\n",
       "      <td>32.364692</td>\n",
       "      <td>48.229669</td>\n",
       "      <td>93.801281</td>\n",
       "      <td>0.0</td>\n",
       "      <td>1.0</td>\n",
       "      <td>0.0</td>\n",
       "      <td>19.943600</td>\n",
       "      <td>1.0</td>\n",
       "      <td>-14.591905</td>\n",
       "    </tr>\n",
       "    <tr>\n",
       "      <th>4</th>\n",
       "      <td>193.578195</td>\n",
       "      <td>99.122458</td>\n",
       "      <td>-0.026095</td>\n",
       "      <td>-0.032476</td>\n",
       "      <td>0.025073</td>\n",
       "      <td>2.984600</td>\n",
       "      <td>0.760303</td>\n",
       "      <td>-0.864634</td>\n",
       "      <td>1.540174</td>\n",
       "      <td>5.334237</td>\n",
       "      <td>...</td>\n",
       "      <td>1.0</td>\n",
       "      <td>-0.151580</td>\n",
       "      <td>-0.110877</td>\n",
       "      <td>-0.458514</td>\n",
       "      <td>0.0</td>\n",
       "      <td>0.0</td>\n",
       "      <td>0.0</td>\n",
       "      <td>2.194275</td>\n",
       "      <td>1.0</td>\n",
       "      <td>-27.767232</td>\n",
       "    </tr>\n",
       "  </tbody>\n",
       "</table>\n",
       "<p>5 rows × 4542 columns</p>\n",
       "</div>"
      ],
      "text/plain": [
       "variable  dim_0__abs_energy  dim_0__absolute_sum_of_changes  \\\n",
       "0                172.027276                       79.981285   \n",
       "1              10764.169856                      671.272140   \n",
       "2                  7.940863                       17.538085   \n",
       "3               8664.940770                      324.813455   \n",
       "4                193.578195                       99.122458   \n",
       "\n",
       "variable  dim_0__agg_autocorrelation__f_agg_\"mean\"__maxlag_40  \\\n",
       "0                                                  0.018738     \n",
       "1                                                  0.016019     \n",
       "2                                                 -0.012544     \n",
       "3                                                 -0.034966     \n",
       "4                                                 -0.026095     \n",
       "\n",
       "variable  dim_0__agg_autocorrelation__f_agg_\"median\"__maxlag_40  \\\n",
       "0                                                 -0.010114       \n",
       "1                                                 -0.037014       \n",
       "2                                                 -0.033330       \n",
       "3                                                 -0.112034       \n",
       "4                                                 -0.032476       \n",
       "\n",
       "variable  dim_0__agg_autocorrelation__f_agg_\"var\"__maxlag_40  \\\n",
       "0                                                  0.051570    \n",
       "1                                                  0.161924    \n",
       "2                                                  0.011363    \n",
       "3                                                  0.071626    \n",
       "4                                                  0.025073    \n",
       "\n",
       "variable  dim_0__agg_linear_trend__attr_\"intercept\"__chunk_len_10__f_agg_\"max\"  \\\n",
       "0                                                  3.290444                      \n",
       "1                                                 10.704797                      \n",
       "2                                                  0.308947                      \n",
       "3                                                 20.912103                      \n",
       "4                                                  2.984600                      \n",
       "\n",
       "variable  dim_0__agg_linear_trend__attr_\"intercept\"__chunk_len_10__f_agg_\"mean\"  \\\n",
       "0                                                  1.030049                       \n",
       "1                                                  1.946699                       \n",
       "2                                                 -0.199023                       \n",
       "3                                                  5.560128                       \n",
       "4                                                  0.760303                       \n",
       "\n",
       "variable  dim_0__agg_linear_trend__attr_\"intercept\"__chunk_len_10__f_agg_\"min\"  \\\n",
       "0                                                 -0.639805                      \n",
       "1                                                -12.205448                      \n",
       "2                                                 -0.815698                      \n",
       "3                                                 -1.942906                      \n",
       "4                                                 -0.864634                      \n",
       "\n",
       "variable  dim_0__agg_linear_trend__attr_\"intercept\"__chunk_len_10__f_agg_\"var\"  \\\n",
       "0                                                  1.932756                      \n",
       "1                                                 65.296221                      \n",
       "2                                                  0.100413                      \n",
       "3                                                 63.322971                      \n",
       "4                                                  1.540174                      \n",
       "\n",
       "variable  dim_0__agg_linear_trend__attr_\"intercept\"__chunk_len_50__f_agg_\"max\"  \\\n",
       "0                                                  4.425835                      \n",
       "1                                                 15.367535                      \n",
       "2                                                  0.590843                      \n",
       "3                                                 28.026657                      \n",
       "4                                                  5.334237                      \n",
       "\n",
       "variable  ...  dim_5__symmetry_looking__r_0.9500000000000001  \\\n",
       "0         ...                                            1.0   \n",
       "1         ...                                            1.0   \n",
       "2         ...                                            1.0   \n",
       "3         ...                                            1.0   \n",
       "4         ...                                            1.0   \n",
       "\n",
       "variable  dim_5__time_reversal_asymmetry_statistic__lag_1  \\\n",
       "0                                               -0.045246   \n",
       "1                                                4.948201   \n",
       "2                                                0.002756   \n",
       "3                                               32.364692   \n",
       "4                                               -0.151580   \n",
       "\n",
       "variable  dim_5__time_reversal_asymmetry_statistic__lag_2  \\\n",
       "0                                                0.165261   \n",
       "1                                                5.331894   \n",
       "2                                                0.004311   \n",
       "3                                               48.229669   \n",
       "4                                               -0.110877   \n",
       "\n",
       "variable  dim_5__time_reversal_asymmetry_statistic__lag_3  \\\n",
       "0                                                0.447651   \n",
       "1                                               16.386624   \n",
       "2                                                0.000921   \n",
       "3                                               93.801281   \n",
       "4                                               -0.458514   \n",
       "\n",
       "variable  dim_5__value_count__value_-1  dim_5__value_count__value_0  \\\n",
       "0                                  0.0                          0.0   \n",
       "1                                  0.0                          0.0   \n",
       "2                                  0.0                          0.0   \n",
       "3                                  0.0                          1.0   \n",
       "4                                  0.0                          0.0   \n",
       "\n",
       "variable  dim_5__value_count__value_1  dim_5__variance  \\\n",
       "0                                 0.0         1.461253   \n",
       "1                                 0.0        19.585905   \n",
       "2                                 0.0         0.078089   \n",
       "3                                 0.0        19.943600   \n",
       "4                                 0.0         2.194275   \n",
       "\n",
       "variable  dim_5__variance_larger_than_standard_deviation  \\\n",
       "0                                                    1.0   \n",
       "1                                                    1.0   \n",
       "2                                                    0.0   \n",
       "3                                                    1.0   \n",
       "4                                                    1.0   \n",
       "\n",
       "variable  dim_5__variation_coefficient  \n",
       "0                           -43.809709  \n",
       "1                           196.180932  \n",
       "2                             8.320448  \n",
       "3                           -14.591905  \n",
       "4                           -27.767232  \n",
       "\n",
       "[5 rows x 4542 columns]"
      ]
     },
     "execution_count": 10,
     "metadata": {},
     "output_type": "execute_result"
    }
   ],
   "source": [
    "t = TSFreshFeatureExtractor(default_fc_parameters=\"efficient\", show_warnings=False)\n",
    "Xt = t.fit_transform(X_train)\n",
    "Xt.head()"
   ]
  }
 ],
 "metadata": {
  "kernelspec": {
   "display_name": "Python 3",
   "language": "python",
   "name": "python3"
  },
  "language_info": {
   "codemirror_mode": {
    "name": "ipython",
    "version": 3
   },
   "file_extension": ".py",
   "mimetype": "text/x-python",
   "name": "python",
   "nbconvert_exporter": "python",
   "pygments_lexer": "ipython3",
   "version": "3.7.7"
  }
 },
 "nbformat": 4,
 "nbformat_minor": 2
}
